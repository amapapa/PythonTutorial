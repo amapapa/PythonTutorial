{
  "nbformat": 4,
  "nbformat_minor": 0,
  "metadata": {
    "colab": {
      "name": "Lists.ipynb",
      "provenance": [],
      "private_outputs": true,
      "collapsed_sections": [],
      "authorship_tag": "ABX9TyP8+0MiOMqvRF9dEuTbKV9D",
      "include_colab_link": true
    },
    "kernelspec": {
      "name": "python3",
      "display_name": "Python 3"
    }
  },
  "cells": [
    {
      "cell_type": "markdown",
      "metadata": {
        "id": "view-in-github",
        "colab_type": "text"
      },
      "source": [
        "<a href=\"https://colab.research.google.com/github/amapapa/PythonTutorial/blob/main/Lists.ipynb\" target=\"_parent\"><img src=\"https://colab.research.google.com/assets/colab-badge.svg\" alt=\"Open In Colab\"/></a>"
      ]
    },
    {
      "cell_type": "markdown",
      "metadata": {
        "id": "cbdyeSBZYzpm"
      },
      "source": [
        "# List Data Type\n",
        "\n",
        "\n",
        "> Mutable\n",
        "\n",
        "> Unordered\n",
        "\n",
        "\n",
        "\n"
      ]
    },
    {
      "cell_type": "code",
      "metadata": {
        "id": "5G2ZbLzLaIYd"
      },
      "source": [
        "l = []\n",
        "n = int(input(\"How many elements do youwant to store in the list? \"))\n",
        "\n",
        "for i in range(1,n+1):\n",
        "    el=int(input(\"Enter elements \"))\n",
        "    l.append(el)\n",
        "    l.sort()\n",
        "print(\"The sorted list is \",l)"
      ],
      "execution_count": null,
      "outputs": []
    },
    {
      "cell_type": "code",
      "metadata": {
        "id": "hKttHhdAhlox"
      },
      "source": [
        "l.reverse()\n",
        "print(l)"
      ],
      "execution_count": null,
      "outputs": []
    },
    {
      "cell_type": "code",
      "metadata": {
        "id": "r8_aj4wlitnv"
      },
      "source": [
        "l"
      ],
      "execution_count": null,
      "outputs": []
    },
    {
      "cell_type": "code",
      "metadata": {
        "id": "vK_RtfOqi9IB"
      },
      "source": [
        "l.pop(0)\n",
        "l.remove(5)"
      ],
      "execution_count": null,
      "outputs": []
    },
    {
      "cell_type": "code",
      "metadata": {
        "id": "0e6HiGMDjNnB"
      },
      "source": [
        "print(l)"
      ],
      "execution_count": null,
      "outputs": []
    },
    {
      "cell_type": "code",
      "metadata": {
        "id": "3D-cRJBxja5Q"
      },
      "source": [
        "l.index(7)\n",
        "i=[20,30,40]\n",
        "l.extend(i)"
      ],
      "execution_count": null,
      "outputs": []
    },
    {
      "cell_type": "code",
      "metadata": {
        "id": "qOJJUw0wjjNm"
      },
      "source": [
        "l"
      ],
      "execution_count": null,
      "outputs": []
    },
    {
      "cell_type": "code",
      "metadata": {
        "id": "9tc11sRHjwNG"
      },
      "source": [
        "help(list.extend)"
      ],
      "execution_count": null,
      "outputs": []
    },
    {
      "cell_type": "code",
      "metadata": {
        "id": "7I_Z17_Uj2DZ"
      },
      "source": [
        "list_a=['amar','akbar','anthony']\n",
        "list_a"
      ],
      "execution_count": null,
      "outputs": []
    },
    {
      "cell_type": "code",
      "metadata": {
        "id": "seh3ud6HkV_w"
      },
      "source": [
        "print(list_a.pop())"
      ],
      "execution_count": null,
      "outputs": []
    },
    {
      "cell_type": "code",
      "metadata": {
        "id": "S9LLmwQMkaYe"
      },
      "source": [
        "list_a"
      ],
      "execution_count": null,
      "outputs": []
    },
    {
      "cell_type": "markdown",
      "metadata": {
        "id": "MUkUf-9Bqbbs"
      },
      "source": [
        "# Slicing in Python Lists"
      ]
    },
    {
      "cell_type": "markdown",
      "metadata": {
        "id": "1u8HWWlQrh23"
      },
      "source": [
        "\n",
        "\n",
        "```\n",
        "# This is formatted as code\n",
        ">>> +---+---+---+---+\n",
        ">>> |-4 |-3 |-2 |-1 |  <= negative indexes\n",
        ">>> +---+---+---+---+\n",
        ">>> | A | B | C | D |  <= sequence elements\n",
        ">>> +---+---+---+---+\n",
        ">>> | 0 | 1 | 2 | 3 |  <= positive indexes\n",
        ">>> +---+---+---+---+\n",
        ">>> |<- 0:3:1 ->|      <= extent of the slice: \"ABCD\"[0:3:1]\n",
        "```\n",
        "\n"
      ]
    },
    {
      "cell_type": "code",
      "metadata": {
        "id": "a052nOG7keJp"
      },
      "source": [
        "l = [10,20,30,40,50,60,70,80,90]\n",
        "l"
      ],
      "execution_count": null,
      "outputs": []
    },
    {
      "cell_type": "code",
      "metadata": {
        "id": "an7D3RImquHl"
      },
      "source": [
        "l[0:5]"
      ],
      "execution_count": null,
      "outputs": []
    },
    {
      "cell_type": "code",
      "metadata": {
        "id": "gIyyO7DIrvp7"
      },
      "source": [
        "l[0:5:2]"
      ],
      "execution_count": null,
      "outputs": []
    },
    {
      "cell_type": "code",
      "metadata": {
        "id": "IYngCnZKsAFQ"
      },
      "source": [
        "l[::]"
      ],
      "execution_count": null,
      "outputs": []
    },
    {
      "cell_type": "code",
      "metadata": {
        "id": "GrvxzZx5sDcN"
      },
      "source": [
        "l[-1]"
      ],
      "execution_count": null,
      "outputs": []
    },
    {
      "cell_type": "code",
      "metadata": {
        "id": "ZOEEbtTzsFyh"
      },
      "source": [
        "l[::-2]"
      ],
      "execution_count": null,
      "outputs": []
    },
    {
      "cell_type": "code",
      "metadata": {
        "id": "VAgHcATusQNz"
      },
      "source": [
        "l.index(90)"
      ],
      "execution_count": null,
      "outputs": []
    },
    {
      "cell_type": "code",
      "metadata": {
        "id": "QoPyxCuVscWc"
      },
      "source": [
        "l[-9:]"
      ],
      "execution_count": null,
      "outputs": []
    },
    {
      "cell_type": "code",
      "metadata": {
        "id": "zWfJqoQpskzV"
      },
      "source": [
        ""
      ],
      "execution_count": null,
      "outputs": []
    }
  ]
}