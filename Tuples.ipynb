{
  "nbformat": 4,
  "nbformat_minor": 0,
  "metadata": {
    "colab": {
      "name": "Tuples.ipynb",
      "provenance": [],
      "private_outputs": true,
      "collapsed_sections": [],
      "authorship_tag": "ABX9TyPS83tiuzZt7HnHDHF3rImS",
      "include_colab_link": true
    },
    "kernelspec": {
      "name": "python3",
      "display_name": "Python 3"
    }
  },
  "cells": [
    {
      "cell_type": "markdown",
      "metadata": {
        "id": "view-in-github",
        "colab_type": "text"
      },
      "source": [
        "<a href=\"https://colab.research.google.com/github/amapapa/PythonTutorial/blob/main/Tuples.ipynb\" target=\"_parent\"><img src=\"https://colab.research.google.com/assets/colab-badge.svg\" alt=\"Open In Colab\"/></a>"
      ]
    },
    {
      "cell_type": "markdown",
      "metadata": {
        "id": "m_6zRfZNT3DA"
      },
      "source": [
        "TUPLES:\n",
        "\n",
        "1.   *Immutable : We cannot modify the data*\n",
        "2.   *Sequence Data Type*  same indexing scheme as list / index from zero\n",
        "3.   *Keeps heterogeneous elements* : Different elements of different datatypes\n",
        "\n"
      ]
    },
    {
      "cell_type": "code",
      "metadata": {
        "id": "_apMiNkFTo-v"
      },
      "source": [
        "t = ()\n",
        "t"
      ],
      "execution_count": null,
      "outputs": []
    },
    {
      "cell_type": "code",
      "metadata": {
        "id": "sPgnfTYTU7a-"
      },
      "source": [
        "t = (\"Nand gate\", 2, 1222.09)\n",
        "t"
      ],
      "execution_count": null,
      "outputs": []
    },
    {
      "cell_type": "code",
      "metadata": {
        "id": "GjKAMUqfVHrM"
      },
      "source": [
        "type(t)"
      ],
      "execution_count": null,
      "outputs": []
    },
    {
      "cell_type": "code",
      "metadata": {
        "id": "zcaSZLTOVJrv"
      },
      "source": [
        "for element in t:\n",
        "    print(element)"
      ],
      "execution_count": null,
      "outputs": []
    },
    {
      "cell_type": "code",
      "metadata": {
        "id": "kTGuwqBpVN8M"
      },
      "source": [
        "t=(10,20,30,40)\n",
        "print(t)\n",
        "print(id(t))"
      ],
      "execution_count": null,
      "outputs": []
    },
    {
      "cell_type": "code",
      "metadata": {
        "id": "AvYsBv1omDGq"
      },
      "source": [
        "for i in t:\n",
        "    print(i)\n",
        "\n",
        "t=t+(50,60)\n",
        "print(t)\n",
        "print(id(t))"
      ],
      "execution_count": null,
      "outputs": []
    },
    {
      "cell_type": "code",
      "metadata": {
        "id": "0rFxDEzTmQyI"
      },
      "source": [
        "## Look above the tuple is stored in a new address\n",
        "print(t)\n",
        "\n",
        "for i in range(0,len(t)):\n",
        "    print(t[i])\n",
        "    t[i] = t[i]*2\n"
      ],
      "execution_count": null,
      "outputs": []
    },
    {
      "cell_type": "code",
      "metadata": {
        "id": "j4ljUBhBmoaX"
      },
      "source": [
        ""
      ],
      "execution_count": null,
      "outputs": []
    }
  ]
}