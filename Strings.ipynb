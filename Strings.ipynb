{
  "nbformat": 4,
  "nbformat_minor": 0,
  "metadata": {
    "colab": {
      "name": "Strings.ipynb",
      "provenance": [],
      "private_outputs": true,
      "collapsed_sections": [],
      "authorship_tag": "ABX9TyO5sywP6cMGa1IRdJ7sJ9cY",
      "include_colab_link": true
    },
    "kernelspec": {
      "name": "python3",
      "display_name": "Python 3"
    }
  },
  "cells": [
    {
      "cell_type": "markdown",
      "metadata": {
        "id": "view-in-github",
        "colab_type": "text"
      },
      "source": [
        "<a href=\"https://colab.research.google.com/github/amapapa/PythonTutorial/blob/main/Strings.ipynb\" target=\"_parent\"><img src=\"https://colab.research.google.com/assets/colab-badge.svg\" alt=\"Open In Colab\"/></a>"
      ]
    },
    {
      "cell_type": "code",
      "metadata": {
        "id": "efbl-_X3tBog"
      },
      "source": [
        "## Strings are a amazing data type in Python and are cool to work with\n",
        "\n",
        "s1=\"This is cool\"\n",
        "s2='This is cool too'\n",
        "\n",
        "s3=\"Isn't it great to have coffee today\"\n",
        "s4 = 'Isn\\'t it great to have coffee early in the morning'\n",
        "\n",
        "print(s1 + \" \"+ s2 + \" \"+ s3+ \"  \"+ s4)"
      ],
      "execution_count": null,
      "outputs": []
    },
    {
      "cell_type": "code",
      "metadata": {
        "id": "-EHKCA3FuVkD"
      },
      "source": [
        "d = \"Elon Musk is the owner of SpaceX\"\n",
        "\n",
        "print(d)\n",
        "print(len(d))\n",
        "print(d.index('E'))"
      ],
      "execution_count": null,
      "outputs": []
    },
    {
      "cell_type": "code",
      "metadata": {
        "id": "ETrAqj_1uvCz"
      },
      "source": [
        "d.count('e')"
      ],
      "execution_count": null,
      "outputs": []
    },
    {
      "cell_type": "code",
      "metadata": {
        "id": "bbVGl1MFuy6b"
      },
      "source": [
        "d[::-1]"
      ],
      "execution_count": null,
      "outputs": []
    },
    {
      "cell_type": "code",
      "metadata": {
        "id": "q6e_i3Oxu3G-"
      },
      "source": [
        ""
      ],
      "execution_count": null,
      "outputs": []
    }
  ]
}