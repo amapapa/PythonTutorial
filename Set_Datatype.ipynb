{
  "nbformat": 4,
  "nbformat_minor": 0,
  "metadata": {
    "colab": {
      "name": "Set Datatype.ipynb",
      "provenance": [],
      "private_outputs": true,
      "authorship_tag": "ABX9TyPwDfWnWvJm/gl1ZUO/JWWe",
      "include_colab_link": true
    },
    "kernelspec": {
      "name": "python3",
      "display_name": "Python 3"
    }
  },
  "cells": [
    {
      "cell_type": "markdown",
      "metadata": {
        "id": "view-in-github",
        "colab_type": "text"
      },
      "source": [
        "<a href=\"https://colab.research.google.com/github/amapapa/PythonTutorial/blob/main/Set_Datatype.ipynb\" target=\"_parent\"><img src=\"https://colab.research.google.com/assets/colab-badge.svg\" alt=\"Open In Colab\"/></a>"
      ]
    },
    {
      "cell_type": "markdown",
      "metadata": {
        "id": "x2Lj3qNJy7PM"
      },
      "source": [
        "# Sets \n",
        "\n",
        "No Duplicates \n",
        "\n",
        "No Ordering of elements\n",
        "\n",
        "No Subscript Operator/No Slicing Operation\n",
        "\n",
        "Sets are Mutable\n",
        "\n",
        "Sets can contain heterogeneous elements \n"
      ]
    },
    {
      "cell_type": "code",
      "metadata": {
        "id": "L7Qo7h-HvHWn"
      },
      "source": [
        "a = set()"
      ],
      "execution_count": null,
      "outputs": []
    },
    {
      "cell_type": "code",
      "metadata": {
        "id": "IjfxF5vEzdmA"
      },
      "source": [
        "type(a)"
      ],
      "execution_count": null,
      "outputs": []
    },
    {
      "cell_type": "code",
      "metadata": {
        "id": "KKp2y6Z5zeHi"
      },
      "source": [
        ""
      ],
      "execution_count": null,
      "outputs": []
    }
  ]
}