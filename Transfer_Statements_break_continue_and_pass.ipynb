{
  "nbformat": 4,
  "nbformat_minor": 0,
  "metadata": {
    "colab": {
      "name": "Transfer Statements break continue and pass.ipynb",
      "provenance": [],
      "private_outputs": true,
      "collapsed_sections": [],
      "authorship_tag": "ABX9TyPZfabGvaQz2LSFxB6TZnbM",
      "include_colab_link": true
    },
    "kernelspec": {
      "name": "python3",
      "display_name": "Python 3"
    }
  },
  "cells": [
    {
      "cell_type": "markdown",
      "metadata": {
        "id": "view-in-github",
        "colab_type": "text"
      },
      "source": [
        "<a href=\"https://colab.research.google.com/github/amapapa/PythonTutorial/blob/main/Transfer_Statements_break_continue_and_pass.ipynb\" target=\"_parent\"><img src=\"https://colab.research.google.com/assets/colab-badge.svg\" alt=\"Open In Colab\"/></a>"
      ]
    },
    {
      "cell_type": "markdown",
      "metadata": {
        "id": "g5TlbIlRQchK"
      },
      "source": [
        "# Transfer statements\n",
        "\n",
        ". Break\n",
        ". Continue\n",
        ". Pass\n"
      ]
    },
    {
      "cell_type": "code",
      "metadata": {
        "id": "-3X1LVbJQKeT"
      },
      "source": [
        "for alphabet in \"Porsche\":\n",
        "    if alphabet=='c':\n",
        "        break\n",
        "        print(\"Will this get printed\")\n",
        "    print(\"Current Letter \", alphabet)"
      ],
      "execution_count": null,
      "outputs": []
    },
    {
      "cell_type": "code",
      "metadata": {
        "id": "DMARUmWkRoX4"
      },
      "source": [
        "for alphabet in \"Porsche\":\n",
        "    if alphabet=='c':\n",
        "        continue\n",
        "\n",
        "        print(\"Will this get printed\")\n",
        "    print(\"Current Letter \", alphabet)"
      ],
      "execution_count": null,
      "outputs": []
    },
    {
      "cell_type": "markdown",
      "metadata": {
        "id": "C8rWImcvQbPq"
      },
      "source": [
        ""
      ]
    },
    {
      "cell_type": "code",
      "metadata": {
        "id": "jQWvArqjSDln"
      },
      "source": [
        "c=5\n",
        "print(\"Value of c\", c)\n",
        "\n",
        "for alphabet in \"Porsche\":\n",
        "    if alphabet=='c':\n",
        "        pass\n",
        "        print(\"Will this get printed\")\n",
        "        c=10\n",
        "        \n",
        "    print(\"Current Letter \", alphabet)\n",
        "print(\"Value of c\", c)\n"
      ],
      "execution_count": null,
      "outputs": []
    },
    {
      "cell_type": "code",
      "metadata": {
        "id": "ylA0OXYvSDWP"
      },
      "source": [
        ""
      ],
      "execution_count": null,
      "outputs": []
    }
  ]
}