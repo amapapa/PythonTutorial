{
  "nbformat": 4,
  "nbformat_minor": 0,
  "metadata": {
    "colab": {
      "name": "Tuples and list.ipynb",
      "provenance": [],
      "private_outputs": true,
      "collapsed_sections": [],
      "authorship_tag": "ABX9TyNdLYj8Ilh3tnB1Md81JQTx",
      "include_colab_link": true
    },
    "kernelspec": {
      "name": "python3",
      "display_name": "Python 3"
    }
  },
  "cells": [
    {
      "cell_type": "markdown",
      "metadata": {
        "id": "view-in-github",
        "colab_type": "text"
      },
      "source": [
        "<a href=\"https://colab.research.google.com/github/amapapa/PythonTutorial/blob/main/Tuples_and_list.ipynb\" target=\"_parent\"><img src=\"https://colab.research.google.com/assets/colab-badge.svg\" alt=\"Open In Colab\"/></a>"
      ]
    },
    {
      "cell_type": "markdown",
      "metadata": {
        "id": "m_6zRfZNT3DA"
      },
      "source": [
        "TUPLES:\n",
        "\n",
        "1.   *Immutable : We cannot modify the data*\n",
        "2.   *Sequence Data Type*  same indexing scheme as list / index from zero\n",
        "3.   *Keeps heterogeneous elements* : Different elements of different datatypes\n",
        "\n"
      ]
    },
    {
      "cell_type": "code",
      "metadata": {
        "id": "_apMiNkFTo-v"
      },
      "source": [
        "t = ()\n",
        "t"
      ],
      "execution_count": null,
      "outputs": []
    },
    {
      "cell_type": "code",
      "metadata": {
        "id": "sPgnfTYTU7a-"
      },
      "source": [
        "t = (\"Nand gate\", 2, 1222.09)\n",
        "t"
      ],
      "execution_count": null,
      "outputs": []
    },
    {
      "cell_type": "code",
      "metadata": {
        "id": "GjKAMUqfVHrM"
      },
      "source": [
        "type(t)"
      ],
      "execution_count": null,
      "outputs": []
    },
    {
      "cell_type": "code",
      "metadata": {
        "id": "zcaSZLTOVJrv"
      },
      "source": [
        "for element in t:\n",
        "    print(element)"
      ],
      "execution_count": null,
      "outputs": []
    },
    {
      "cell_type": "code",
      "metadata": {
        "id": "kTGuwqBpVN8M"
      },
      "source": [
        "t=(10,20,30,40)\n",
        "print(t)\n",
        "print(id(t))"
      ],
      "execution_count": null,
      "outputs": []
    },
    {
      "cell_type": "code",
      "metadata": {
        "id": "AvYsBv1omDGq"
      },
      "source": [
        "for i in t:\n",
        "    print(i)\n",
        "\n",
        "t=t+(50,60)\n",
        "print(t)\n",
        "print(id(t))"
      ],
      "execution_count": null,
      "outputs": []
    },
    {
      "cell_type": "markdown",
      "metadata": {
        "id": "tCJSBZH-nUby"
      },
      "source": [
        ""
      ]
    },
    {
      "cell_type": "code",
      "metadata": {
        "id": "0rFxDEzTmQyI"
      },
      "source": [
        "## Look above the tuple is stored in a new address\n",
        "print(t)\n",
        "\n",
        "for i in range(0,len(t)):\n",
        "    print(t[i])\n",
        "    t[i] = t[i]*2\n"
      ],
      "execution_count": null,
      "outputs": []
    },
    {
      "cell_type": "markdown",
      "metadata": {
        "id": "4AVg-_FLnXdv"
      },
      "source": [
        "# Shall we try the same for LISTS?\n"
      ]
    },
    {
      "cell_type": "code",
      "metadata": {
        "id": "j4ljUBhBmoaX"
      },
      "source": [
        "lst = list()\n",
        "lst"
      ],
      "execution_count": null,
      "outputs": []
    },
    {
      "cell_type": "code",
      "metadata": {
        "id": "7TE7GqMWnhKl"
      },
      "source": [
        "lst.append((100,200,300,'Santan'))"
      ],
      "execution_count": null,
      "outputs": []
    },
    {
      "cell_type": "code",
      "metadata": {
        "id": "BtpB6yKNntp2"
      },
      "source": [
        "lst\n",
        "lst.append(\"This is crazy \")"
      ],
      "execution_count": null,
      "outputs": []
    },
    {
      "cell_type": "code",
      "metadata": {
        "id": "pJXYHRjKnyu5"
      },
      "source": [
        "lst"
      ],
      "execution_count": null,
      "outputs": []
    },
    {
      "cell_type": "code",
      "metadata": {
        "id": "y6FuHApon3fo"
      },
      "source": [
        "for i in lst:\n",
        "    print(i)\n",
        "    print(type(i))\n",
        "    if type(i)==type(()):\n",
        "        print(\"These are the elements in the tuple in the list\")\n",
        "        for j in range(0,len(i)):\n",
        "            print(i[j])\n",
        "    print()\n",
        "    "
      ],
      "execution_count": null,
      "outputs": []
    },
    {
      "cell_type": "code",
      "metadata": {
        "id": "wq1ixAben59A"
      },
      "source": [
        "id(lst)"
      ],
      "execution_count": null,
      "outputs": []
    },
    {
      "cell_type": "code",
      "metadata": {
        "id": "UBQpBiT3S5Dj"
      },
      "source": [
        "lst.append(200)\n"
      ],
      "execution_count": null,
      "outputs": []
    },
    {
      "cell_type": "code",
      "metadata": {
        "id": "x1QDboVxTCNC"
      },
      "source": [
        "# The list is mutable, means the same address even after playing around with the list we see appended list\n",
        "\n",
        "id(lst)\n"
      ],
      "execution_count": null,
      "outputs": []
    },
    {
      "cell_type": "code",
      "metadata": {
        "id": "I7EuQYaDTDoj"
      },
      "source": [
        "lst1=lst"
      ],
      "execution_count": null,
      "outputs": []
    },
    {
      "cell_type": "code",
      "metadata": {
        "id": "G7CL6v_hTSbn"
      },
      "source": [
        "id(lst1)"
      ],
      "execution_count": null,
      "outputs": []
    },
    {
      "cell_type": "code",
      "metadata": {
        "id": "aT13KlolTbb_"
      },
      "source": [
        "lst1.append(2020)"
      ],
      "execution_count": null,
      "outputs": []
    },
    {
      "cell_type": "code",
      "metadata": {
        "id": "Zj2iPpFMTgHr"
      },
      "source": [
        "lst1"
      ],
      "execution_count": null,
      "outputs": []
    },
    {
      "cell_type": "code",
      "metadata": {
        "id": "j_ldZuEgTgml"
      },
      "source": [
        "lst"
      ],
      "execution_count": null,
      "outputs": []
    },
    {
      "cell_type": "code",
      "metadata": {
        "id": "FY4eizuiThX5"
      },
      "source": [
        "lst3=lst.copy()"
      ],
      "execution_count": null,
      "outputs": []
    },
    {
      "cell_type": "code",
      "metadata": {
        "id": "_GTVrPeLTpi7"
      },
      "source": [
        "id(lst3)\n",
        "lst3.remove(2020)"
      ],
      "execution_count": null,
      "outputs": []
    },
    {
      "cell_type": "code",
      "metadata": {
        "id": "AbDDRLoVTsfF"
      },
      "source": [
        "\n",
        "lst3\n"
      ],
      "execution_count": null,
      "outputs": []
    },
    {
      "cell_type": "code",
      "metadata": {
        "id": "UYEdJIFTTzeE"
      },
      "source": [
        "lst"
      ],
      "execution_count": null,
      "outputs": []
    },
    {
      "cell_type": "code",
      "metadata": {
        "id": "y5dWkCSWT2EB"
      },
      "source": [
        ""
      ],
      "execution_count": null,
      "outputs": []
    }
  ]
}