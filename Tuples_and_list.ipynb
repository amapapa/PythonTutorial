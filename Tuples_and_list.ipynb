{
  "nbformat": 4,
  "nbformat_minor": 0,
  "metadata": {
    "colab": {
      "name": "Tuples and list.ipynb",
      "provenance": [],
      "private_outputs": true,
      "collapsed_sections": [],
      "authorship_tag": "ABX9TyO5sMCqo2F2eoNR+rq2AxXN",
      "include_colab_link": true
    },
    "kernelspec": {
      "name": "python3",
      "display_name": "Python 3"
    }
  },
  "cells": [
    {
      "cell_type": "markdown",
      "metadata": {
        "id": "view-in-github",
        "colab_type": "text"
      },
      "source": [
        "<a href=\"https://colab.research.google.com/github/amapapa/PythonTutorial/blob/main/Tuples_and_list.ipynb\" target=\"_parent\"><img src=\"https://colab.research.google.com/assets/colab-badge.svg\" alt=\"Open In Colab\"/></a>"
      ]
    },
    {
      "cell_type": "markdown",
      "metadata": {
        "id": "m_6zRfZNT3DA"
      },
      "source": [
        "TUPLES:\n",
        "\n",
        "1.   *Immutable : We cannot modify the data*\n",
        "2.   *Sequence Data Type*  same indexing scheme as list / index from zero\n",
        "3.   *Keeps heterogeneous elements* : Different elements of different datatypes\n",
        "\n"
      ]
    },
    {
      "cell_type": "code",
      "metadata": {
        "id": "_apMiNkFTo-v"
      },
      "source": [
        "t = ()\n",
        "t"
      ],
      "execution_count": null,
      "outputs": []
    },
    {
      "cell_type": "code",
      "metadata": {
        "id": "sPgnfTYTU7a-"
      },
      "source": [
        "t = (\"Nand gate\", 2, 1222.09)\n",
        "t"
      ],
      "execution_count": null,
      "outputs": []
    },
    {
      "cell_type": "code",
      "metadata": {
        "id": "GjKAMUqfVHrM"
      },
      "source": [
        "type(t)"
      ],
      "execution_count": null,
      "outputs": []
    },
    {
      "cell_type": "code",
      "metadata": {
        "id": "zcaSZLTOVJrv"
      },
      "source": [
        "for element in t:\n",
        "    print(element)"
      ],
      "execution_count": null,
      "outputs": []
    },
    {
      "cell_type": "code",
      "metadata": {
        "id": "kTGuwqBpVN8M"
      },
      "source": [
        "t=(10,20,30,40)\n",
        "print(t)\n",
        "print(id(t))"
      ],
      "execution_count": null,
      "outputs": []
    },
    {
      "cell_type": "code",
      "metadata": {
        "id": "AvYsBv1omDGq"
      },
      "source": [
        "for i in t:\n",
        "    print(i)\n",
        "\n",
        "t=t+(50,60)\n",
        "print(t)\n",
        "print(id(t))"
      ],
      "execution_count": null,
      "outputs": []
    },
    {
      "cell_type": "markdown",
      "metadata": {
        "id": "tCJSBZH-nUby"
      },
      "source": [
        ""
      ]
    },
    {
      "cell_type": "code",
      "metadata": {
        "id": "0rFxDEzTmQyI"
      },
      "source": [
        "## Look above the tuple is stored in a new address\n",
        "print(t)\n",
        "\n",
        "for i in range(0,len(t)):\n",
        "    print(t[i])\n",
        "    t[i] = t[i]*2\n"
      ],
      "execution_count": null,
      "outputs": []
    },
    {
      "cell_type": "markdown",
      "metadata": {
        "id": "4AVg-_FLnXdv"
      },
      "source": [
        "# Shall we try the same for LISTS?\n"
      ]
    },
    {
      "cell_type": "code",
      "metadata": {
        "id": "j4ljUBhBmoaX"
      },
      "source": [
        "lst = list()\n",
        "lst"
      ],
      "execution_count": null,
      "outputs": []
    },
    {
      "cell_type": "code",
      "metadata": {
        "id": "7TE7GqMWnhKl"
      },
      "source": [
        "lst.append((100,200,300,'Santan'))"
      ],
      "execution_count": null,
      "outputs": []
    },
    {
      "cell_type": "code",
      "metadata": {
        "id": "BtpB6yKNntp2"
      },
      "source": [
        "lst\n",
        "lst.append(\"This is crazy \")"
      ],
      "execution_count": null,
      "outputs": []
    },
    {
      "cell_type": "code",
      "metadata": {
        "id": "pJXYHRjKnyu5"
      },
      "source": [
        "lst"
      ],
      "execution_count": null,
      "outputs": []
    },
    {
      "cell_type": "code",
      "metadata": {
        "id": "y6FuHApon3fo"
      },
      "source": [
        "for i in lst:\n",
        "    print(i)\n",
        "    print(type(i))\n",
        "    if type(i)==type(()):\n",
        "        print(\"These are the elements in the tuple in the list\")\n",
        "        for j in range(0,len(i)):\n",
        "            print(i[j])\n",
        "    print()\n",
        "    "
      ],
      "execution_count": null,
      "outputs": []
    },
    {
      "cell_type": "code",
      "metadata": {
        "id": "wq1ixAben59A"
      },
      "source": [
        "id(lst)"
      ],
      "execution_count": null,
      "outputs": []
    },
    {
      "cell_type": "code",
      "metadata": {
        "id": "UBQpBiT3S5Dj"
      },
      "source": [
        "lst.append(200)\n"
      ],
      "execution_count": null,
      "outputs": []
    },
    {
      "cell_type": "code",
      "metadata": {
        "id": "x1QDboVxTCNC"
      },
      "source": [
        "# The list is mutable, means the same address even after playing around with the list we see appended list\n",
        "\n",
        "id(lst)\n"
      ],
      "execution_count": null,
      "outputs": []
    },
    {
      "cell_type": "code",
      "metadata": {
        "id": "I7EuQYaDTDoj"
      },
      "source": [
        "lst1=lst"
      ],
      "execution_count": null,
      "outputs": []
    },
    {
      "cell_type": "code",
      "metadata": {
        "id": "G7CL6v_hTSbn"
      },
      "source": [
        "id(lst1)"
      ],
      "execution_count": null,
      "outputs": []
    },
    {
      "cell_type": "code",
      "metadata": {
        "id": "aT13KlolTbb_"
      },
      "source": [
        "lst1.append(2020)"
      ],
      "execution_count": null,
      "outputs": []
    },
    {
      "cell_type": "code",
      "metadata": {
        "id": "Zj2iPpFMTgHr"
      },
      "source": [
        "lst1"
      ],
      "execution_count": null,
      "outputs": []
    },
    {
      "cell_type": "code",
      "metadata": {
        "id": "j_ldZuEgTgml"
      },
      "source": [
        "lst"
      ],
      "execution_count": null,
      "outputs": []
    },
    {
      "cell_type": "code",
      "metadata": {
        "id": "FY4eizuiThX5"
      },
      "source": [
        "lst3=lst.copy()"
      ],
      "execution_count": null,
      "outputs": []
    },
    {
      "cell_type": "code",
      "metadata": {
        "id": "_GTVrPeLTpi7"
      },
      "source": [
        "id(lst3)\n",
        "lst3.remove(2020)"
      ],
      "execution_count": null,
      "outputs": []
    },
    {
      "cell_type": "code",
      "metadata": {
        "id": "AbDDRLoVTsfF"
      },
      "source": [
        "\n",
        "lst3\n"
      ],
      "execution_count": null,
      "outputs": []
    },
    {
      "cell_type": "code",
      "metadata": {
        "id": "UYEdJIFTTzeE"
      },
      "source": [
        "lst"
      ],
      "execution_count": null,
      "outputs": []
    },
    {
      "cell_type": "markdown",
      "metadata": {
        "id": "qXLb-r8LUEK8"
      },
      "source": [
        "# Packing example"
      ]
    },
    {
      "cell_type": "code",
      "metadata": {
        "id": "y5dWkCSWT2EB"
      },
      "source": [
        "    a=\"books\"\n",
        "    b=\"pens\"\n",
        "    c=\"tiffin box\"\n",
        "\n",
        "    t=(a,b,c) #packing\n",
        "    print(t)\n",
        "    print(id(t))"
      ],
      "execution_count": null,
      "outputs": []
    },
    {
      "cell_type": "code",
      "metadata": {
        "id": "ZBu4Tp43UZjW"
      },
      "source": [
        "# Unpaking\n",
        "\n",
        "x,y,z = t\n"
      ],
      "execution_count": null,
      "outputs": []
    },
    {
      "cell_type": "code",
      "metadata": {
        "id": "WhFYylOrUk8c"
      },
      "source": [
        "print(x,y,z)"
      ],
      "execution_count": null,
      "outputs": []
    },
    {
      "cell_type": "code",
      "metadata": {
        "id": "CRy_bUeSUnM2"
      },
      "source": [
        "print(id(x),id(y))"
      ],
      "execution_count": null,
      "outputs": []
    },
    {
      "cell_type": "code",
      "metadata": {
        "id": "pPidAXgVUwuq"
      },
      "source": [
        "t1 = (1.002, 23,'fisteeeeees', 'quiver')\n",
        "t2 = (1, 23.002,'fast', 'quiver')\n",
        "\n",
        "print(t1>t2)"
      ],
      "execution_count": null,
      "outputs": []
    },
    {
      "cell_type": "code",
      "metadata": {
        "id": "Vt_QXuCiWjvM"
      },
      "source": [
        "## eval()\n",
        "# Constructor of the data structure\n",
        "\n",
        "y = eval(input(\"Enter the elements : \"))\n",
        "print(y)\n",
        "    "
      ],
      "execution_count": null,
      "outputs": []
    },
    {
      "cell_type": "code",
      "metadata": {
        "id": "hDoA9rdoXZpb"
      },
      "source": [
        "print(type(y))"
      ],
      "execution_count": null,
      "outputs": []
    },
    {
      "cell_type": "markdown",
      "metadata": {
        "id": "9W3KIuD0YX_Z"
      },
      "source": [
        "List Comprehension"
      ]
    },
    {
      "cell_type": "code",
      "metadata": {
        "id": "RRx4vz1XYB9R"
      },
      "source": [
        "## List comprehension\n",
        "\n",
        "es, os = 0,0 \n",
        "G = [eval(x) for x in input(\"Enter comma separated elements : \").split(',')]\n",
        "print(G)"
      ],
      "execution_count": null,
      "outputs": []
    },
    {
      "cell_type": "code",
      "metadata": {
        "id": "rnLdx3k5YXsP"
      },
      "source": [
        "for i in range(0,10):\n",
        "    if i%2==0 :\n",
        "        print(i, \"even\")\n",
        "    else :\n",
        "        print(i,\"odd\")"
      ],
      "execution_count": null,
      "outputs": []
    },
    {
      "cell_type": "code",
      "metadata": {
        "id": "jAGsVesyY1gV"
      },
      "source": [
        "even, odd ="
      ],
      "execution_count": null,
      "outputs": []
    }
  ]
}