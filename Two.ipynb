{
  "nbformat": 4,
  "nbformat_minor": 0,
  "metadata": {
    "colab": {
      "name": "Two.ipynb",
      "provenance": [],
      "private_outputs": true,
      "authorship_tag": "ABX9TyPlTRYwyMtpr9zdUuQ8tM3d",
      "include_colab_link": true
    },
    "kernelspec": {
      "name": "python3",
      "display_name": "Python 3"
    }
  },
  "cells": [
    {
      "cell_type": "markdown",
      "metadata": {
        "id": "view-in-github",
        "colab_type": "text"
      },
      "source": [
        "<a href=\"https://colab.research.google.com/github/amapapa/PythonTutorial/blob/main/Two.ipynb\" target=\"_parent\"><img src=\"https://colab.research.google.com/assets/colab-badge.svg\" alt=\"Open In Colab\"/></a>"
      ]
    },
    {
      "cell_type": "markdown",
      "metadata": {
        "id": "HNxGfy0MGmvr"
      },
      "source": [
        "*   Opertators in Python\n",
        "    - Arithmetic \n",
        "    - Relational\n",
        "    - Logical\n",
        "    - Bitwise\n",
        "\n",
        "\n",
        "\n"
      ]
    },
    {
      "cell_type": "code",
      "metadata": {
        "id": "1he5r_DSGefd"
      },
      "source": [
        "# The number system\n",
        "var = 10\n",
        "binary = bin(var)\n",
        "octal  = oct(var)\n",
        "hexa   = hex(var)\n",
        "\n",
        "\n",
        "print( \"Integer variable {} has binary format {}, oct format {}, hexadecimal format {}\".format(var,binary,octal,hexa))"
      ],
      "execution_count": null,
      "outputs": []
    },
    {
      "cell_type": "code",
      "metadata": {
        "id": "jgjVdPg9GmZL"
      },
      "source": [
        "binary"
      ],
      "execution_count": null,
      "outputs": []
    },
    {
      "cell_type": "code",
      "metadata": {
        "id": "t3h50Nh1gT2l"
      },
      "source": [
        "a=\"ABC\"\n",
        "b=\"DEF\"\n",
        "a==b\n",
        "a + 2*b"
      ],
      "execution_count": null,
      "outputs": []
    },
    {
      "cell_type": "code",
      "metadata": {
        "id": "BHIyZznUh8JC"
      },
      "source": [
        "x=\"henry\"\n",
        "\n",
        "'e' in x\n",
        "\n",
        "for i,j in enumerate(x):\n",
        "    print(i, \" \" , j)"
      ],
      "execution_count": null,
      "outputs": []
    },
    {
      "cell_type": "code",
      "metadata": {
        "id": "AFe9aT6AiI5b"
      },
      "source": [
        ""
      ],
      "execution_count": null,
      "outputs": []
    }
  ]
}