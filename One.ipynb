{
  "nbformat": 4,
  "nbformat_minor": 0,
  "metadata": {
    "colab": {
      "name": "One.ipynb",
      "provenance": [],
      "private_outputs": true,
      "collapsed_sections": [],
      "authorship_tag": "ABX9TyOMfuMzZolC7h0oJEp5NlIt",
      "include_colab_link": true
    },
    "kernelspec": {
      "name": "python3",
      "display_name": "Python 3"
    }
  },
  "cells": [
    {
      "cell_type": "markdown",
      "metadata": {
        "id": "view-in-github",
        "colab_type": "text"
      },
      "source": [
        "<a href=\"https://colab.research.google.com/github/amapapa/PythonTutorial/blob/main/One.ipynb\" target=\"_parent\"><img src=\"https://colab.research.google.com/assets/colab-badge.svg\" alt=\"Open In Colab\"/></a>"
      ]
    },
    {
      "cell_type": "markdown",
      "metadata": {
        "id": "zM4Y4-eT1i7O"
      },
      "source": [
        "# Hello World!!\n",
        "## This is my first content I am creating\n",
        "\n",
        "''' Referred the videos from Ranji Raj, on youtube  for the structure, used some ideas of mine as well'''"
      ]
    },
    {
      "cell_type": "code",
      "metadata": {
        "id": "ijTgsDpVxokK"
      },
      "source": [
        "# Trying to see if both the modes work fine :  The coorgi and kitty mode\n",
        "# Hello to all my kitten and puppy friends above this browser\n",
        "# Hope you'll help me correct the bugs\n",
        "\n"
      ],
      "execution_count": null,
      "outputs": []
    },
    {
      "cell_type": "code",
      "metadata": {
        "id": "7KSi9GVY2lKI"
      },
      "source": [
        "print(\"Hello World\")"
      ],
      "execution_count": null,
      "outputs": []
    },
    {
      "cell_type": "markdown",
      "metadata": {
        "id": "ddI5avoI37q7"
      },
      "source": [
        "# The basic ones first"
      ]
    },
    {
      "cell_type": "code",
      "metadata": {
        "id": "HNrHKv_q2284"
      },
      "source": [
        "print(\"test all lines being printed\")\n",
        "'''print(\"test all lines being printed\")\n",
        "print(\"test all lines being printed\")\n",
        "print(\"test all lines being printed\")'''\n",
        "\n",
        "# This is just a comment line which is used only for a developer\n",
        "# however if I want some documentation for my cell I need to use a documentation approach like below\n",
        "''' This is also called the documentation line'''\n",
        "''' The earlier documentation line got over written by the current statement'''"
      ],
      "execution_count": null,
      "outputs": []
    },
    {
      "cell_type": "markdown",
      "metadata": {
        "id": "c0itvvm75mLu"
      },
      "source": [
        "# Identifier and Variables\n",
        "\n",
        "Identifiers are the units used for programming and the variables are the ones that will be reserve memory locations"
      ]
    },
    {
      "cell_type": "code",
      "metadata": {
        "id": "Je6Bu1wy4bG8"
      },
      "source": [
        "## We need not strongly typecasting a variable in python\n",
        "## We can dynamically just type the variable in python\n",
        "\n",
        "a = 10\n",
        "a\n",
        "id(a)\n",
        "print(\"a=10 is of type \", type(a), \"and the address in memory is \", id(a))\n",
        "\n",
        "b=20.0\n",
        "id(b)\n",
        "print(\"b=20.0 is of type \",type(b), \"and the address in memory is \", id(b))"
      ],
      "execution_count": null,
      "outputs": []
    },
    {
      "cell_type": "code",
      "metadata": {
        "id": "kBZbboHC9Z5h"
      },
      "source": [
        "import keyword\n",
        "print(keyword.kwlist)\n",
        "''' The above list demonstrates keywords in python '''"
      ],
      "execution_count": null,
      "outputs": []
    },
    {
      "cell_type": "markdown",
      "metadata": {
        "id": "mf79cEAi_T5t"
      },
      "source": [
        "Below are the datatypes :\n",
        "\n",
        "*   Datatypes\n",
        "    - Float\n",
        "    - String\n",
        "    - None\n",
        "    - Complex\n",
        "    - Boolean \n",
        "    - set\n",
        "    - list\n",
        "    - frozenset\n",
        "    - dict"
      ]
    },
    {
      "cell_type": "code",
      "metadata": {
        "id": "-QveTjOZ91qj"
      },
      "source": [
        "s= 2 +3j\n",
        "type(s)"
      ],
      "execution_count": null,
      "outputs": []
    },
    {
      "cell_type": "code",
      "metadata": {
        "id": "DHR_nDq3APMP"
      },
      "source": [
        "''' to find the ASCII code of a character '''\n",
        "a=\"a\"\n",
        "print(ord(a))"
      ],
      "execution_count": null,
      "outputs": []
    },
    {
      "cell_type": "markdown",
      "metadata": {
        "id": "zBcqfTFFArRO"
      },
      "source": [
        "# Take input from the User"
      ]
    },
    {
      "cell_type": "code",
      "metadata": {
        "id": "BBAbWzJFAiUu"
      },
      "source": [
        "x=input(\"Enter the number \")\n",
        "## By default the input data is taken in as String\n",
        "print(type(x))\n",
        "## Typecast the input or convert it to a different type \n",
        "x=int(x)\n",
        "y=float(x)\n",
        "print(type(x))\n",
        "print(\"The float version of the number x is \", y)"
      ],
      "execution_count": null,
      "outputs": []
    },
    {
      "cell_type": "code",
      "metadata": {
        "id": "If0jtVP7A8Pw"
      },
      "source": [
        "### Write a simple program \n",
        "\n",
        "a=int(input(\"Type the value of first integer \"))\n",
        "b=int(input(\"Type the value of second integer \"))\n",
        "\n",
        "c= a * b\n",
        "print(\"The value after multiplying both numbers is \", c)"
      ],
      "execution_count": null,
      "outputs": []
    },
    {
      "cell_type": "markdown",
      "metadata": {
        "id": "8wPnuXTnCX5O"
      },
      "source": [
        "Calculate the ***factorial*** of any number\n",
        "\n"
      ]
    },
    {
      "cell_type": "code",
      "metadata": {
        "id": "5bRlHyMmCIPA"
      },
      "source": [
        "## Write a program to calculate the factorial of any given number\n",
        "\n",
        "x=int(input(\"Please ennter a number \"))\n",
        "factorial = 1\n",
        "\n",
        "for i in range(x,0,-1):\n",
        "    # print(i)\n",
        "    factorial=factorial*i\n",
        "\n",
        "print( \"The factorial of {} results in {}\".format(x,factorial))"
      ],
      "execution_count": null,
      "outputs": []
    },
    {
      "cell_type": "code",
      "metadata": {
        "id": "IgSM1VtaDTbX"
      },
      "source": [
        ""
      ],
      "execution_count": null,
      "outputs": []
    }
  ]
}